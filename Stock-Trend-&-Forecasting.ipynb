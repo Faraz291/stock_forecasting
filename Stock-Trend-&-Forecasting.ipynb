{
 "cells": [
  {
   "cell_type": "markdown",
   "id": "ddbe789c",
   "metadata": {},
   "source": [
    "# Installing yfinance library"
   ]
  },
  {
   "cell_type": "code",
   "execution_count": 1,
   "id": "0f45a492",
   "metadata": {},
   "outputs": [
    {
     "name": "stdout",
     "output_type": "stream",
     "text": [
      "Requirement already satisfied: yfinance in e:\\python\\lib\\site-packages (0.2.44)\n",
      "Requirement already satisfied: pandas>=1.3.0 in e:\\python\\lib\\site-packages (from yfinance) (2.0.3)\n",
      "Requirement already satisfied: numpy>=1.16.5 in e:\\python\\lib\\site-packages (from yfinance) (1.24.3)\n",
      "Requirement already satisfied: requests>=2.31 in e:\\python\\lib\\site-packages (from yfinance) (2.31.0)\n",
      "Requirement already satisfied: multitasking>=0.0.7 in e:\\python\\lib\\site-packages (from yfinance) (0.0.11)\n",
      "Requirement already satisfied: lxml>=4.9.1 in e:\\python\\lib\\site-packages (from yfinance) (4.9.3)\n",
      "Requirement already satisfied: platformdirs>=2.0.0 in e:\\python\\lib\\site-packages (from yfinance) (3.10.0)\n",
      "Requirement already satisfied: pytz>=2022.5 in e:\\python\\lib\\site-packages (from yfinance) (2023.3.post1)\n",
      "Requirement already satisfied: frozendict>=2.3.4 in e:\\python\\lib\\site-packages (from yfinance) (2.4.6)\n",
      "Requirement already satisfied: peewee>=3.16.2 in e:\\python\\lib\\site-packages (from yfinance) (3.17.6)\n",
      "Requirement already satisfied: beautifulsoup4>=4.11.1 in e:\\python\\lib\\site-packages (from yfinance) (4.12.2)\n",
      "Requirement already satisfied: html5lib>=1.1 in e:\\python\\lib\\site-packages (from yfinance) (1.1)\n",
      "Requirement already satisfied: soupsieve>1.2 in e:\\python\\lib\\site-packages (from beautifulsoup4>=4.11.1->yfinance) (2.4)\n",
      "Requirement already satisfied: six>=1.9 in e:\\python\\lib\\site-packages (from html5lib>=1.1->yfinance) (1.16.0)\n",
      "Requirement already satisfied: webencodings in e:\\python\\lib\\site-packages (from html5lib>=1.1->yfinance) (0.5.1)\n",
      "Requirement already satisfied: python-dateutil>=2.8.2 in e:\\python\\lib\\site-packages (from pandas>=1.3.0->yfinance) (2.8.2)\n",
      "Requirement already satisfied: tzdata>=2022.1 in e:\\python\\lib\\site-packages (from pandas>=1.3.0->yfinance) (2023.3)\n",
      "Requirement already satisfied: charset-normalizer<4,>=2 in e:\\python\\lib\\site-packages (from requests>=2.31->yfinance) (2.0.4)\n",
      "Requirement already satisfied: idna<4,>=2.5 in e:\\python\\lib\\site-packages (from requests>=2.31->yfinance) (3.4)\n",
      "Requirement already satisfied: urllib3<3,>=1.21.1 in e:\\python\\lib\\site-packages (from requests>=2.31->yfinance) (1.26.16)\n",
      "Requirement already satisfied: certifi>=2017.4.17 in e:\\python\\lib\\site-packages (from requests>=2.31->yfinance) (2023.7.22)\n",
      "Note: you may need to restart the kernel to use updated packages.\n"
     ]
    }
   ],
   "source": [
    "pip install yfinance"
   ]
  },
  {
   "cell_type": "markdown",
   "id": "902229e1",
   "metadata": {},
   "source": [
    "# Downloading a Data"
   ]
  },
  {
   "cell_type": "code",
   "execution_count": 2,
   "id": "26573bad",
   "metadata": {},
   "outputs": [
    {
     "name": "stderr",
     "output_type": "stream",
     "text": [
      "\r",
      "[*********************100%***********************]  1 of 1 completed"
     ]
    },
    {
     "name": "stdout",
     "output_type": "stream",
     "text": [
      "                 Open       High        Low      Close  Adj Close    Volume\n",
      "Date                                                                       \n",
      "2014-07-01  16.292999  16.660000  16.254999  16.619499  16.619499  63472000\n",
      "2014-07-02  16.660000  16.837999  16.583000  16.642500  16.642500  53626000\n",
      "2014-07-03  16.741501  16.915001  16.653999  16.874500  16.874500  38886000\n",
      "2014-07-07  16.875000  16.877501  16.625999  16.677500  16.677500  42578000\n",
      "2014-07-08  16.655001  16.687000  16.070000  16.190500  16.190500  85432000\n",
      "                  Open        High         Low       Close   Adj Close  \\\n",
      "Date                                                                     \n",
      "2024-06-24  189.330002  191.000000  185.330002  185.570007  185.570007   \n",
      "2024-06-25  186.809998  188.839996  185.419998  186.339996  186.339996   \n",
      "2024-06-26  186.919998  194.800003  186.259995  193.610001  193.610001   \n",
      "2024-06-27  195.009995  199.839996  194.199997  197.850006  197.850006   \n",
      "2024-06-28  197.729996  198.850006  192.500000  193.250000  193.250000   \n",
      "\n",
      "              Volume  \n",
      "Date                  \n",
      "2024-06-24  50610400  \n",
      "2024-06-25  45898500  \n",
      "2024-06-26  65103900  \n",
      "2024-06-27  74397500  \n",
      "2024-06-28  76930200  \n"
     ]
    },
    {
     "name": "stderr",
     "output_type": "stream",
     "text": [
      "\n"
     ]
    }
   ],
   "source": [
    "import yfinance as yf\n",
    "\n",
    "# Define the Amazon stock\n",
    "\n",
    "ticker = \"AMZN\"  # Amazon's stock symbol\n",
    "start_date = \"2014-07-01\"\n",
    "end_date = \"2024-06-30\"\n",
    "\n",
    "# Download historical stock data\n",
    "AMZN = yf.download(ticker, start=start_date, end=end_date)\n",
    "\n",
    "# Display the first few rows of the data\n",
    "print(AMZN.head())\n",
    "print(AMZN.tail())\n"
   ]
  },
  {
   "cell_type": "code",
   "execution_count": 3,
   "id": "ef41938c",
   "metadata": {},
   "outputs": [],
   "source": [
    "AMZN.to_excel('AMZN.xlsx')"
   ]
  },
  {
   "cell_type": "code",
   "execution_count": 4,
   "id": "2eac8fc6",
   "metadata": {},
   "outputs": [
    {
     "name": "stderr",
     "output_type": "stream",
     "text": [
      "\r",
      "[*********************100%***********************]  1 of 1 completed"
     ]
    },
    {
     "name": "stdout",
     "output_type": "stream",
     "text": [
      "                 Open       High        Low      Close  Adj Close     Volume\n",
      "Date                                                                        \n",
      "2014-07-01  23.379999  23.517500  23.282499  23.379999  20.656521  152892000\n",
      "2014-07-02  23.467501  23.514999  23.272499  23.370001  20.647682  113860000\n",
      "2014-07-03  23.417500  23.525000  23.299999  23.507500  20.769173   91567200\n",
      "2014-07-07  23.535000  23.997499  23.525000  23.992500  21.197676  225872000\n",
      "2014-07-08  24.067499  24.200001  23.480000  23.837500  21.060734  260888000\n",
      "                  Open        High         Low       Close   Adj Close  \\\n",
      "Date                                                                     \n",
      "2024-06-24  207.720001  212.699997  206.589996  208.139999  207.899353   \n",
      "2024-06-25  209.149994  211.380005  208.610001  209.070007  208.828293   \n",
      "2024-06-26  211.500000  214.860001  210.639999  213.250000  213.003448   \n",
      "2024-06-27  214.690002  215.740005  212.350006  214.100006  213.852478   \n",
      "2024-06-28  215.770004  216.070007  210.300003  210.619995  210.376480   \n",
      "\n",
      "              Volume  \n",
      "Date                  \n",
      "2024-06-24  80727000  \n",
      "2024-06-25  56713900  \n",
      "2024-06-26  66213200  \n",
      "2024-06-27  49772700  \n",
      "2024-06-28  82542700  \n"
     ]
    },
    {
     "name": "stderr",
     "output_type": "stream",
     "text": [
      "\n"
     ]
    }
   ],
   "source": [
    "# Define the Apple stock\n",
    "\n",
    "ticker = \"AAPL\"  # Apple's stock symbol\n",
    "start_date = \"2014-07-01\"\n",
    "end_date = \"2024-06-30\"\n",
    "\n",
    "# Download historical stock data\n",
    "AAPL = yf.download(ticker, start=start_date, end=end_date)\n",
    "\n",
    "# Display the first few rows of the data\n",
    "print(AAPL.head())\n",
    "print(AAPL.tail())"
   ]
  },
  {
   "cell_type": "code",
   "execution_count": 5,
   "id": "1a142509",
   "metadata": {},
   "outputs": [],
   "source": [
    "AAPL.to_excel('AAPL.xlsx')"
   ]
  },
  {
   "cell_type": "code",
   "execution_count": 6,
   "id": "1035fe3b",
   "metadata": {},
   "outputs": [
    {
     "name": "stderr",
     "output_type": "stream",
     "text": [
      "\r",
      "[*********************100%***********************]  1 of 1 completed"
     ]
    },
    {
     "name": "stdout",
     "output_type": "stream",
     "text": [
      "                 Open       High        Low      Close  Adj Close    Volume\n",
      "Date                                                                       \n",
      "2014-07-01  41.860001  42.150002  41.689999  41.869999  35.577435  26917000\n",
      "2014-07-02  41.730000  41.900002  41.529999  41.900002  35.602936  20208100\n",
      "2014-07-03  41.910000  41.990002  41.560001  41.799999  35.517956  15969300\n",
      "2014-07-07  41.750000  42.119999  41.709999  41.990002  35.679398  21952400\n",
      "2014-07-08  41.869999  42.000000  41.610001  41.779999  35.500973  31218200\n",
      "                  Open        High         Low       Close   Adj Close  \\\n",
      "Date                                                                     \n",
      "2024-06-24  449.799988  452.750000  446.410004  447.670013  446.864594   \n",
      "2024-06-25  448.250000  451.420013  446.750000  450.950012  450.138672   \n",
      "2024-06-26  449.000000  453.600006  448.190002  452.160004  451.346497   \n",
      "2024-06-27  452.179993  456.170013  451.769989  452.850006  452.035248   \n",
      "2024-06-28  453.070007  455.380005  446.410004  446.950012  446.145874   \n",
      "\n",
      "              Volume  \n",
      "Date                  \n",
      "2024-06-24  15913700  \n",
      "2024-06-25  16747500  \n",
      "2024-06-26  16507000  \n",
      "2024-06-27  14806300  \n",
      "2024-06-28  28362300  \n"
     ]
    },
    {
     "name": "stderr",
     "output_type": "stream",
     "text": [
      "\n"
     ]
    }
   ],
   "source": [
    "# Define the Microsoft stock\n",
    "\n",
    "ticker = \"MSFT\"  # Microsoft's stock symbol\n",
    "start_date = \"2014-07-01\"\n",
    "end_date = \"2024-06-30\"\n",
    "\n",
    "# Download historical stock data\n",
    "MSFT = yf.download(ticker, start=start_date, end=end_date)\n",
    "\n",
    "# Display the first few rows of the data\n",
    "print(MSFT.head())\n",
    "print(MSFT.tail())"
   ]
  },
  {
   "cell_type": "code",
   "execution_count": 7,
   "id": "8ae58e7b",
   "metadata": {},
   "outputs": [],
   "source": [
    "MSFT.to_excel('MSFT.xlsx')"
   ]
  },
  {
   "cell_type": "code",
   "execution_count": 8,
   "id": "debc2570",
   "metadata": {},
   "outputs": [
    {
     "name": "stderr",
     "output_type": "stream",
     "text": [
      "\r",
      "[*********************100%***********************]  1 of 1 completed"
     ]
    },
    {
     "name": "stdout",
     "output_type": "stream",
     "text": [
      "                 Open       High        Low      Close  Adj Close    Volume\n",
      "Date                                                                       \n",
      "2014-07-01  67.580002  68.440002  67.389999  68.059998  67.855690  33243000\n",
      "2014-07-02  68.040001  68.300003  65.790001  66.449997  66.250526  41895000\n",
      "2014-07-03  66.860001  67.000000  65.760002  66.290001  66.091011  25203200\n",
      "2014-07-07  66.300003  66.570000  65.120003  65.290001  65.094009  28745000\n",
      "2014-07-08  65.059998  65.559998  62.209999  62.759998  62.571602  68926000\n",
      "                  Open        High         Low       Close   Adj Close  \\\n",
      "Date                                                                     \n",
      "2024-06-24  499.200012  507.799988  494.290009  498.910004  498.434509   \n",
      "2024-06-25  497.049988  510.709991  495.500000  510.600006  510.113373   \n",
      "2024-06-26  506.649994  513.809998  504.679993  513.119995  512.630981   \n",
      "2024-06-27  514.250000  522.880005  513.900024  519.559998  519.064819   \n",
      "2024-06-28  517.150024  521.880005  503.839996  504.220001  503.739441   \n",
      "\n",
      "              Volume  \n",
      "Date                  \n",
      "2024-06-24  13525300  \n",
      "2024-06-25  12109800  \n",
      "2024-06-26   8882300  \n",
      "2024-06-27  10121200  \n",
      "2024-06-28  15855100  \n"
     ]
    },
    {
     "name": "stderr",
     "output_type": "stream",
     "text": [
      "\n"
     ]
    }
   ],
   "source": [
    "# Define the Meta stock\n",
    "\n",
    "ticker = \"META\"  # Meta's stock symbol\n",
    "start_date = \"2014-07-01\"\n",
    "end_date = \"2024-06-30\"\n",
    "\n",
    "# Download historical stock data\n",
    "META = yf.download(ticker, start=start_date, end=end_date)\n",
    "\n",
    "# Display the first few rows of the data\n",
    "print(META.head())\n",
    "print(META.tail())"
   ]
  },
  {
   "cell_type": "code",
   "execution_count": 9,
   "id": "c249d282",
   "metadata": {},
   "outputs": [],
   "source": [
    "META.to_excel('META.xlsx')"
   ]
  },
  {
   "cell_type": "code",
   "execution_count": 10,
   "id": "948733ad",
   "metadata": {},
   "outputs": [
    {
     "name": "stderr",
     "output_type": "stream",
     "text": [
      "\r",
      "[*********************100%***********************]  1 of 1 completed"
     ]
    },
    {
     "name": "stdout",
     "output_type": "stream",
     "text": [
      "                 Open       High        Low      Close  Adj Close    Volume\n",
      "Date                                                                       \n",
      "2014-07-01  65.175713  67.668571  65.042854  67.585716  67.585716  37995300\n",
      "2014-07-02  67.639999  67.981430  66.577141  66.677139  66.677139  17309600\n",
      "2014-07-03  67.165710  67.517143  66.981430  67.478569  67.478569  11359600\n",
      "2014-07-07  67.442856  67.461426  65.714287  65.802856  65.802856  18296600\n",
      "2014-07-08  65.664284  65.857140  62.754288  63.578571  63.578571  26182800\n",
      "                  Open        High         Low       Close   Adj Close  \\\n",
      "Date                                                                     \n",
      "2024-06-24  685.000000  685.500000  664.500000  669.020020  669.020020   \n",
      "2024-06-25  673.440002  673.669983  662.299988  672.409973  672.409973   \n",
      "2024-06-26  672.409973  682.960022  670.020020  677.690002  677.690002   \n",
      "2024-06-27  679.349976  688.570007  678.140015  684.340027  684.340027   \n",
      "2024-06-28  679.000000  687.000000  673.080017  674.880005  674.880005   \n",
      "\n",
      "             Volume  \n",
      "Date                 \n",
      "2024-06-24  3916300  \n",
      "2024-06-25  2278800  \n",
      "2024-06-26  3545800  \n",
      "2024-06-27  2404800  \n",
      "2024-06-28  3412400  \n"
     ]
    },
    {
     "name": "stderr",
     "output_type": "stream",
     "text": [
      "\n"
     ]
    }
   ],
   "source": [
    "# Define the Netflix stock\n",
    "\n",
    "ticker = \"NFLX\"  # Netflix's stock symbol\n",
    "start_date = \"2014-07-01\"\n",
    "end_date = \"2024-06-30\"\n",
    "\n",
    "# Download historical stock data\n",
    "NFLX = yf.download(ticker, start=start_date, end=end_date)\n",
    "\n",
    "# Display the first few rows of the data\n",
    "print(NFLX.head())\n",
    "print(NFLX.tail())"
   ]
  },
  {
   "cell_type": "code",
   "execution_count": 13,
   "id": "e724b35e",
   "metadata": {},
   "outputs": [],
   "source": [
    "NFLX.to_excel('NFLX.xlsx')"
   ]
  },
  {
   "cell_type": "code",
   "execution_count": 14,
   "id": "d2650121",
   "metadata": {},
   "outputs": [
    {
     "name": "stderr",
     "output_type": "stream",
     "text": [
      "\r",
      "[*********************100%***********************]  1 of 1 completed"
     ]
    },
    {
     "name": "stdout",
     "output_type": "stream",
     "text": [
      "                 Open       High        Low      Close  Adj Close     Volume\n",
      "Date                                                                        \n",
      "2014-07-01  16.164000  16.229334  15.913333  15.981333  15.981333   65041500\n",
      "2014-07-02  16.044001  16.155333  15.138000  15.295333  15.295333  120411000\n",
      "2014-07-03  15.419333  15.460000  14.933333  15.283333  15.283333   77500500\n",
      "2014-07-07  15.166667  15.318667  14.693333  14.844000  14.844000   88405500\n",
      "2014-07-08  14.576667  14.730667  14.284667  14.604667  14.604667  117543000\n",
      "                  Open        High         Low       Close   Adj Close  \\\n",
      "Date                                                                     \n",
      "2024-06-24  184.970001  188.800003  182.550003  182.580002  182.580002   \n",
      "2024-06-25  184.399994  187.970001  182.009995  187.350006  187.350006   \n",
      "2024-06-26  186.539993  197.759995  186.360001  196.369995  196.369995   \n",
      "2024-06-27  195.169998  198.720001  194.050003  197.419998  197.419998   \n",
      "2024-06-28  199.550003  203.199997  195.259995  197.880005  197.880005   \n",
      "\n",
      "              Volume  \n",
      "Date                  \n",
      "2024-06-24  61992100  \n",
      "2024-06-25  63678300  \n",
      "2024-06-26  95737100  \n",
      "2024-06-27  72746500  \n",
      "2024-06-28  95438100  \n"
     ]
    },
    {
     "name": "stderr",
     "output_type": "stream",
     "text": [
      "\n"
     ]
    }
   ],
   "source": [
    "# Define the Tesla stock\n",
    "\n",
    "ticker = \"TSLA\"  # Tesla's stock symbol\n",
    "start_date = \"2014-07-01\"\n",
    "end_date = \"2024-06-30\"\n",
    "\n",
    "# Download historical stock data\n",
    "TSLA = yf.download(ticker, start=start_date, end=end_date)\n",
    "\n",
    "# Display the first few rows of the data\n",
    "print(TSLA.head())\n",
    "print(TSLA.tail())"
   ]
  },
  {
   "cell_type": "code",
   "execution_count": 15,
   "id": "7f9f24a9",
   "metadata": {},
   "outputs": [],
   "source": [
    "TSLA.to_excel('TSLA.xlsx')"
   ]
  },
  {
   "cell_type": "code",
   "execution_count": 22,
   "id": "aaa2e039",
   "metadata": {},
   "outputs": [
    {
     "name": "stderr",
     "output_type": "stream",
     "text": [
      "\r",
      "[*********************100%***********************]  1 of 1 completed"
     ]
    },
    {
     "name": "stdout",
     "output_type": "stream",
     "text": [
      "                 Open       High        Low      Close  Adj Close   Volume\n",
      "Date                                                                      \n",
      "2014-07-01  82.900002  83.129997  82.654999  82.790001  48.492538  1064455\n",
      "2014-07-02  83.160004  83.419998  82.959999  83.120003  48.685822  1376035\n",
      "2014-07-03  82.889999  82.974998  82.300003  82.430000  48.281677  1080981\n",
      "2014-07-07  82.330002  82.430000  81.910004  82.120003  48.100098  1113458\n",
      "2014-07-08  81.919998  82.160004  81.690002  82.019997  48.041523  1435277\n",
      "                 Open       High        Low      Close  Adj Close   Volume\n",
      "Date                                                                      \n",
      "2024-06-24  70.660004  71.595001  70.550003  71.419998  70.748451  3661056\n",
      "2024-06-25  71.580002  71.669998  71.220001  71.550003  70.877235  2562124\n",
      "2024-06-26  70.870003  71.019997  70.480003  70.860001  70.193718  4847041\n",
      "2024-06-27  71.669998  71.790001  71.150002  71.440002  70.768272  3650737\n",
      "2024-06-28  71.980003  72.298897  71.650002  72.180000  71.501312  5230189\n"
     ]
    },
    {
     "name": "stderr",
     "output_type": "stream",
     "text": [
      "\n"
     ]
    }
   ],
   "source": [
    "# Define the Shell stock\n",
    "\n",
    "ticker = \"SHEL\"  # Shell's stock symbol\n",
    "start_date = \"2014-07-01\"\n",
    "end_date = \"2024-06-30\"\n",
    "\n",
    "# Download historical stock data\n",
    "SHEL = yf.download(ticker, start=start_date, end=end_date)\n",
    "\n",
    "# Display the first few rows of the data\n",
    "print(SHEL.head())\n",
    "print(SHEL.tail())"
   ]
  },
  {
   "cell_type": "code",
   "execution_count": 23,
   "id": "5983179a",
   "metadata": {},
   "outputs": [],
   "source": [
    "SHEL.to_excel('SHEL.xlsx')"
   ]
  },
  {
   "cell_type": "code",
   "execution_count": 26,
   "id": "c111bfc4",
   "metadata": {},
   "outputs": [
    {
     "name": "stderr",
     "output_type": "stream",
     "text": [
      "\r",
      "[*********************100%***********************]  1 of 1 completed"
     ]
    },
    {
     "name": "stdout",
     "output_type": "stream",
     "text": [
      "                  Open        High         Low       Close  Adj Close   Volume\n",
      "Date                                                                          \n",
      "2014-07-01  101.150002  101.589996  100.790001  101.360001  65.170654  8399600\n",
      "2014-07-02  101.150002  101.639999  101.040001  101.570000  65.305687  6954400\n",
      "2014-07-03  101.949997  103.269997  101.680000  102.589996  65.961517  6922600\n",
      "2014-07-07  102.330002  102.650002  102.019997  102.650002  66.000099  7979600\n",
      "2014-07-08  102.330002  103.230003  102.169998  102.830002  66.115814  9613600\n",
      "                  Open        High         Low       Close   Adj Close  \\\n",
      "Date                                                                     \n",
      "2024-06-24  111.639999  114.529999  111.639999  114.050003  113.139137   \n",
      "2024-06-25  114.110001  114.550003  113.459999  114.370003  113.456581   \n",
      "2024-06-26  114.389999  114.820000  113.139999  114.410004  113.496262   \n",
      "2024-06-27  114.989998  114.989998  114.110001  114.900002  113.982346   \n",
      "2024-06-28  115.860001  116.540001  114.680000  115.120003  114.200592   \n",
      "\n",
      "              Volume  \n",
      "Date                  \n",
      "2024-06-24  16266700  \n",
      "2024-06-25  16213700  \n",
      "2024-06-26  15771800  \n",
      "2024-06-27  16812700  \n",
      "2024-06-28  24565900  \n"
     ]
    },
    {
     "name": "stderr",
     "output_type": "stream",
     "text": [
      "\n"
     ]
    }
   ],
   "source": [
    "# Define the Exxon Mobil Corporation stock\n",
    "\n",
    "ticker = \"XOM\"  # Exxon Mobil Corporation's stock symbol\n",
    "start_date = \"2014-07-01\"\n",
    "end_date = \"2024-06-30\"\n",
    "\n",
    "# Download historical stock data\n",
    "XOM = yf.download(ticker, start=start_date, end=end_date)\n",
    "\n",
    "# Display the first few rows of the data\n",
    "print(XOM.head())\n",
    "print(XOM.tail())"
   ]
  },
  {
   "cell_type": "code",
   "execution_count": 27,
   "id": "ecc2ead3",
   "metadata": {},
   "outputs": [],
   "source": [
    "XOM.to_excel('XOM.xlsx')"
   ]
  },
  {
   "cell_type": "code",
   "execution_count": 29,
   "id": "26aa5d71",
   "metadata": {},
   "outputs": [
    {
     "name": "stderr",
     "output_type": "stream",
     "text": [
      "\r",
      "[*********************100%***********************]  1 of 1 completed"
     ]
    },
    {
     "name": "stdout",
     "output_type": "stream",
     "text": [
      "                 Open       High        Low      Close  Adj Close  Volume\n",
      "Date                                                                     \n",
      "2014-07-01  95.410004  95.410004  95.410004  95.410004  59.759663       0\n",
      "2014-07-02  95.430000  95.430000  95.430000  95.430000  59.772186       0\n",
      "2014-07-03  95.300003  96.339996  95.300003  96.339996  60.342171      20\n",
      "2014-07-04  96.269997  96.269997  96.269997  96.269997  60.298302       0\n",
      "2014-07-07  96.239998  96.239998  96.239998  96.239998  60.279514       0\n",
      "                  Open        High         Low       Close   Adj Close  Volume\n",
      "Date                                                                          \n",
      "2024-06-24  144.820007  146.800003  144.820007  146.800003  145.005188      80\n",
      "2024-06-25  148.699997  148.699997  148.699997  148.699997  146.881958       0\n",
      "2024-06-26  148.300003  148.300003  148.300003  148.300003  146.486847       0\n",
      "2024-06-27  145.539993  145.539993  145.539993  145.539993  143.760590       0\n",
      "2024-06-28  146.279999  146.279999  146.279999  146.279999  144.491547       0\n"
     ]
    },
    {
     "name": "stderr",
     "output_type": "stream",
     "text": [
      "\n"
     ]
    }
   ],
   "source": [
    "# Define the Chevron Corp stock\n",
    "\n",
    "ticker = \"CHV.BE\"  # Chevron Corp's stock symbol\n",
    "start_date = \"2014-07-01\"\n",
    "end_date = \"2024-06-30\"\n",
    "\n",
    "# Download historical stock data\n",
    "CHV = yf.download(ticker, start=start_date, end=end_date)\n",
    "\n",
    "# Display the first few rows of the data\n",
    "print(CHV.head())\n",
    "print(CHV.tail())"
   ]
  },
  {
   "cell_type": "code",
   "execution_count": 30,
   "id": "00d4a1f2",
   "metadata": {},
   "outputs": [],
   "source": [
    "CHV.to_excel('CHV.xlsx')"
   ]
  },
  {
   "cell_type": "code",
   "execution_count": 33,
   "id": "2c30ae18",
   "metadata": {},
   "outputs": [
    {
     "name": "stderr",
     "output_type": "stream",
     "text": [
      "\r",
      "[*********************100%***********************]  1 of 1 completed"
     ]
    },
    {
     "name": "stdout",
     "output_type": "stream",
     "text": [
      "               Open     High      Low    Close  Adj Close     Volume\n",
      "Date                                                                \n",
      "2014-07-01  0.46300  0.47150  0.46150  0.46875   0.446183  321180000\n",
      "2014-07-02  0.46700  0.46900  0.46425  0.46700   0.444517  179284000\n",
      "2014-07-03  0.46275  0.47250  0.46275  0.47125   0.448562  136892000\n",
      "2014-07-07  0.47200  0.47225  0.46675  0.46750   0.444993  127496000\n",
      "2014-07-08  0.46625  0.46825  0.45925  0.46375   0.441423  221940000\n",
      "                  Open        High         Low       Close   Adj Close  \\\n",
      "Date                                                                     \n",
      "2024-06-24  123.239998  124.459999  118.040001  118.110001  118.099899   \n",
      "2024-06-25  121.199997  126.500000  119.320000  126.089996  126.079208   \n",
      "2024-06-26  126.129997  128.119995  122.599998  126.400002  126.389191   \n",
      "2024-06-27  124.099998  126.410004  122.919998  123.989998  123.979393   \n",
      "2024-06-28  124.580002  127.709999  122.750000  123.540001  123.529434   \n",
      "\n",
      "               Volume  \n",
      "Date                   \n",
      "2024-06-24  476060900  \n",
      "2024-06-25  425787500  \n",
      "2024-06-26  362975900  \n",
      "2024-06-27  252571700  \n",
      "2024-06-28  315516700  \n"
     ]
    },
    {
     "name": "stderr",
     "output_type": "stream",
     "text": [
      "\n"
     ]
    }
   ],
   "source": [
    "# Define the NVIDIA Corporation stock\n",
    "\n",
    "ticker = \"NVDA\"  # NVIDIA Corporation's stock symbol\n",
    "start_date = \"2014-07-01\"\n",
    "end_date = \"2024-06-30\"\n",
    "\n",
    "# Download historical stock data\n",
    "NVDA = yf.download(ticker, start=start_date, end=end_date)\n",
    "\n",
    "# Display the first few rows of the data\n",
    "print(NVDA.head())\n",
    "print(NVDA.tail())"
   ]
  },
  {
   "cell_type": "code",
   "execution_count": 34,
   "id": "2b65590d",
   "metadata": {},
   "outputs": [],
   "source": [
    "NVDA.to_excel('NVDA.xlsx')"
   ]
  },
  {
   "cell_type": "code",
   "execution_count": 4,
   "id": "6535fc0f",
   "metadata": {},
   "outputs": [
    {
     "name": "stderr",
     "output_type": "stream",
     "text": [
      "\r",
      "[*********************100%***********************]  1 of 1 completed"
     ]
    },
    {
     "name": "stdout",
     "output_type": "stream",
     "text": [
      "                 Open       High        Low      Close  Adj Close    Volume\n",
      "Date                                                                       \n",
      "2014-07-01  29.382500  29.683001  29.314501  29.574499  29.501448  32864000\n",
      "2014-07-02  29.613001  29.707500  29.455500  29.539000  29.466038  23916000\n",
      "2014-07-03  29.584999  29.712500  29.450001  29.653999  29.580753  17978000\n",
      "2014-07-07  29.675501  29.782499  29.396999  29.538000  29.465040  26734000\n",
      "2014-07-08  29.318501  29.398500  28.700001  28.920000  28.848566  42504000\n",
      "                  Open        High         Low       Close   Adj Close  \\\n",
      "Date                                                                     \n",
      "2024-06-24  180.160004  180.889999  178.669998  179.220001  178.982498   \n",
      "2024-06-25  179.619995  184.289993  179.419998  184.029999  183.786118   \n",
      "2024-06-26  182.630005  184.509995  182.479996  183.880005  183.636322   \n",
      "2024-06-27  184.179993  186.050003  184.020004  185.410004  185.164307   \n",
      "2024-06-28  184.320007  185.130005  181.960007  182.149994  181.908615   \n",
      "\n",
      "              Volume  \n",
      "Date                  \n",
      "2024-06-24  18298000  \n",
      "2024-06-25  23235600  \n",
      "2024-06-26  19839000  \n",
      "2024-06-27  18848900  \n",
      "2024-06-28  29156600  \n"
     ]
    },
    {
     "name": "stderr",
     "output_type": "stream",
     "text": [
      "\n"
     ]
    }
   ],
   "source": [
    "# Define the Google Corporation stock\n",
    "\n",
    "ticker = \"GOOGL\"  # Google's stock symbol\n",
    "start_date = \"2014-07-01\"\n",
    "end_date = \"2024-06-30\"\n",
    "\n",
    "# Download historical stock data\n",
    "GOOGL = yf.download(ticker, start=start_date, end=end_date)\n",
    "\n",
    "# Display the first few rows of the data\n",
    "print(GOOGL.head())\n",
    "print(GOOGL.tail())"
   ]
  },
  {
   "cell_type": "code",
   "execution_count": 5,
   "id": "2498f86a",
   "metadata": {},
   "outputs": [],
   "source": [
    "GOOGL.to_excel('GOOGL.xlsx')"
   ]
  },
  {
   "cell_type": "code",
   "execution_count": null,
   "id": "448788ad",
   "metadata": {},
   "outputs": [],
   "source": []
  }
 ],
 "metadata": {
  "kernelspec": {
   "display_name": "Python 3 (ipykernel)",
   "language": "python",
   "name": "python3"
  },
  "language_info": {
   "codemirror_mode": {
    "name": "ipython",
    "version": 3
   },
   "file_extension": ".py",
   "mimetype": "text/x-python",
   "name": "python",
   "nbconvert_exporter": "python",
   "pygments_lexer": "ipython3",
   "version": "3.11.5"
  }
 },
 "nbformat": 4,
 "nbformat_minor": 5
}
